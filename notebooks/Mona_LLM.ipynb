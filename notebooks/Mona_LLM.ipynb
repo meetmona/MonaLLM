# Mona LLM - Interactive Demo
This notebook demonstrates the use of Mona LLM’s archetype-based insight generation.

# Import Mona LLM from monallm.py
from monallm import MonaLLM

# Initialize Mona with the 'Sage' archetype
print("Initializing Mona LLM with 'Sage' archetype...")
mona = MonaLLM(archetype="Sage")

# Prompt Mona with a sample question
prompt = "What does the future hold?"
print("Prompt:", prompt)
print("Mona's Response:", mona.generate(prompt))

# Switch to a different archetype
print("\nSwitching archetype to 'Trickster'...")
mona.switch_archetype("Trickster")

# Generate a response with the new archetype
print("Prompt:", prompt)
print("Mona's Response:", mona.generate(prompt))

## Conclusion
Mona LLM offers unique perspectives based on archetype-driven responses, showcasing the potential for a personalized AI insight generator.
